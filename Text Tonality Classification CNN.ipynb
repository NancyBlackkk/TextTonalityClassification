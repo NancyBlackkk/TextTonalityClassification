{
  "cells": [
    {
      "cell_type": "markdown",
      "metadata": {
        "id": "z1XsxdB2IZ-8"
      },
      "source": []
    },
    {
      "cell_type": "markdown",
      "metadata": {
        "id": "3WP4R8ECITGx"
      },
      "source": [
        "##Импорт библиотек"
      ]
    },
    {
      "cell_type": "code",
      "execution_count": null,
      "metadata": {
        "colab": {
          "base_uri": "https://localhost:8080/"
        },
        "id": "KJxnEZ2GH51p",
        "outputId": "5d0bb74a-8f1a-41ce-eb7e-4b409df02865"
      },
      "outputs": [],
      "source": [
        "! pip install pymorphy2\n",
        "!pip install datasets"
      ]
    },
    {
      "cell_type": "code",
      "execution_count": null,
      "metadata": {
        "id": "8lMBhq5EIKJ4"
      },
      "outputs": [],
      "source": [
        "import os\n",
        "import random\n",
        "from pprint import pprint\n",
        "from string import punctuation\n",
        "import nltk\n",
        "import re\n",
        "import time\n",
        "import datasets\n",
        "\n",
        "import pymorphy2\n",
        "from pymorphy2 import MorphAnalyzer\n",
        "from pymorphy2 import units\n",
        "\n",
        "import pandas as pd\n",
        "import numpy as np\n",
        "import matplotlib.pyplot as plt\n",
        "\n",
        "import torch\n",
        "import torch.optim as optim\n",
        "import torch.nn as nn\n",
        "import torch.nn.functional as F\n",
        "from torch.utils.data import TensorDataset, DataLoader\n",
        "\n",
        "from sklearn.metrics import f1_score\n",
        "from sklearn.base import BaseEstimator, ClassifierMixin\n",
        "from sklearn.exceptions import NotFittedError\n",
        "from sklearn.model_selection import ParameterGrid\n",
        "from sklearn.model_selection import train_test_split\n",
        "from sklearn.metrics import accuracy_score\n",
        "from sklearn.metrics import f1_score\n",
        "import gensim\n",
        "from gensim import models\n",
        "from gensim.models import Word2Vec, FastText, KeyedVectors\n",
        "from gensim.models.fasttext import FastTextKeyedVectors\n",
        "\n",
        "from torch.nn.init import kaiming_uniform_, xavier_uniform_"
      ]
    },
    {
      "cell_type": "code",
      "execution_count": null,
      "metadata": {
        "colab": {
          "base_uri": "https://localhost:8080/"
        },
        "id": "eZ6oEq0aIQNa",
        "outputId": "52a5cefd-f900-4cfd-f24e-f3091692f7a8"
      },
      "outputs": [
        {
          "name": "stdout",
          "output_type": "stream",
          "text": [
            "Drive already mounted at /content/drive; to attempt to forcibly remount, call drive.mount(\"/content/drive\", force_remount=True).\n"
          ]
        }
      ],
      "source": [
        "from google.colab import drive\n",
        "drive.mount('/content/drive')"
      ]
    },
    {
      "cell_type": "markdown",
      "metadata": {
        "id": "QbuubU25Iceh"
      },
      "source": [
        "##Загрузка данных"
      ]
    },
    {
      "cell_type": "code",
      "execution_count": null,
      "metadata": {
        "id": "fSo7SwDAIgmW"
      },
      "outputs": [],
      "source": [
        "X_y_train = pd.read_excel('/content/drive/MyDrive/X_y_train.xlsx', usecols=[\"Text\", \"Class\"])\n",
        "X_y_test = pd.read_excel('/content/drive/MyDrive/X_y_test.xlsx', usecols=[\"Text\", \"Class\"])"
      ]
    },
    {
      "cell_type": "code",
      "execution_count": null,
      "metadata": {
        "id": "QpGmcMZrIi9m"
      },
      "outputs": [],
      "source": [
        "X_y_train[\"Class\"].replace(-1, 0, inplace=True)\n",
        "X_y_test[\"Class\"].replace(-1, 0, inplace=True)"
      ]
    },
    {
      "cell_type": "code",
      "execution_count": null,
      "metadata": {
        "colab": {
          "base_uri": "https://localhost:8080/",
          "height": 359
        },
        "id": "EZNsmrJgImhg",
        "outputId": "9a282d26-ad16-4a17-c350-d1327faba885"
      },
      "outputs": [
        {
          "data": {
            "application/vnd.google.colaboratory.intrinsic+json": {
              "summary": "{\n  \"name\": \"X_y_train\",\n  \"rows\": 22348,\n  \"fields\": [\n    {\n      \"column\": \"Text\",\n      \"properties\": {\n        \"dtype\": \"string\",\n        \"num_unique_values\": 21906,\n        \"samples\": [\n          \"@maxim_spitsyn \\u0441 \\u0411\\u0435\\u043b\\u044c\\u0433\\u0438\\u0435\\u0439 \\u043f\\u0438\\u0437\\u0434\\u0435\\u0446 \\u043a\\u0430\\u043a \\u0442\\u0440\\u0443\\u0434\\u043d\\u043e \\u0431\\u0443\\u0434\\u0435\\u0442,\\u043c\\u043d\\u0435 \\u043a\\u0430\\u0436\\u0435\\u0442\\u0441\\u044f \\u0431\\u0443\\u0434\\u0435\\u0442 \\u0442\\u044f\\u0436\\u043a\\u043e \\u043d\\u043e \\u043f\\u0440\\u043e\\u0439\\u0434\\u0435\\u043c)\",\n          \"\\u0421\\u0438\\u0436\\u0443 \\u043d\\u0430 \\u0440\\u0430\\u0431\\u043e\\u0442\\u0435, \\u0432\\u044b\\u0445\\u043b\\u043e\\u043f\\u044b\\u0432\\u0430\\u044e \\u043f\\u0443\\u043f\\u044b\\u0440\\u0447\\u0430\\u0442\\u043e\\u0439 \\u043b\\u0435\\u043d\\u0442\\u043e\\u0439 \\u043c\\u0435\\u043b\\u043e\\u0434\\u0438\\u0438, \\u0430 \\u043c\\u0435\\u043d\\u044f \\u043d\\u0438\\u043a\\u0442\\u043e \\u043d\\u0435 \\u043f\\u043e\\u043d\\u0438\\u043c\\u0430\\u0435\\u0442 :(\",\n          \"@sveta618 \\u0430\\u0445\\u0430\\u0445\\u0430\\u0445\\u0430, \\u0432\\u0441\\u043f\\u043e\\u043c\\u043d\\u0438\\u043b\\u0430 \\u043f\\u0440\\u043e \\u0442\\u0432\\u043e\\u0439 \\u0442\\u0435\\u043b\\u0435\\u0444\\u043e\\u043d \\u0441\\u0440\\u0430\\u0437\\u0443 ;D \\u041d\\u0443 \\u0438\\u0437\\u0432\\u0438\\u043d\\u0438\\u0442\\u0435, \\u044f \\u043d\\u0435 \\u0432\\u0438\\u043d\\u043e\\u0432\\u0430\\u0442\\u0430 \\u043d\\u0438 \\u0432 \\u0447\\u0451\\u043c \\u043d\\u0435 \\u0431\\u044b\\u043b\\u0430 )\"\n        ],\n        \"semantic_type\": \"\",\n        \"description\": \"\"\n      }\n    },\n    {\n      \"column\": \"Class\",\n      \"properties\": {\n        \"dtype\": \"number\",\n        \"std\": 0,\n        \"min\": 0,\n        \"max\": 1,\n        \"num_unique_values\": 2,\n        \"samples\": [\n          0,\n          1\n        ],\n        \"semantic_type\": \"\",\n        \"description\": \"\"\n      }\n    }\n  ]\n}",
              "type": "dataframe",
              "variable_name": "X_y_train"
            },
            "text/html": [
              "\n",
              "  <div id=\"df-89c63817-685f-4dc8-a4ae-fd8d8f51d705\" class=\"colab-df-container\">\n",
              "    <div>\n",
              "<style scoped>\n",
              "    .dataframe tbody tr th:only-of-type {\n",
              "        vertical-align: middle;\n",
              "    }\n",
              "\n",
              "    .dataframe tbody tr th {\n",
              "        vertical-align: top;\n",
              "    }\n",
              "\n",
              "    .dataframe thead th {\n",
              "        text-align: right;\n",
              "    }\n",
              "</style>\n",
              "<table border=\"1\" class=\"dataframe\">\n",
              "  <thead>\n",
              "    <tr style=\"text-align: right;\">\n",
              "      <th></th>\n",
              "      <th>Text</th>\n",
              "      <th>Class</th>\n",
              "    </tr>\n",
              "  </thead>\n",
              "  <tbody>\n",
              "    <tr>\n",
              "      <th>0</th>\n",
              "      <td>RT @Dj__De: @i_sleepwalker_ аахха китайский го...</td>\n",
              "      <td>1</td>\n",
              "    </tr>\n",
              "    <tr>\n",
              "      <th>1</th>\n",
              "      <td>привет, я хочу поиграть с тобой в игру. выучи ...</td>\n",
              "      <td>0</td>\n",
              "    </tr>\n",
              "    <tr>\n",
              "      <th>2</th>\n",
              "      <td>Команда #КВН школы Гейдара Алиева г.#Астрахань...</td>\n",
              "      <td>1</td>\n",
              "    </tr>\n",
              "    <tr>\n",
              "      <th>3</th>\n",
              "      <td>#20FactsAboutMe \\n16. Не знаю, в какой сфере х...</td>\n",
              "      <td>0</td>\n",
              "    </tr>\n",
              "    <tr>\n",
              "      <th>4</th>\n",
              "      <td>этот год я встретил на Родине! Дал себе слово ...</td>\n",
              "      <td>0</td>\n",
              "    </tr>\n",
              "    <tr>\n",
              "      <th>5</th>\n",
              "      <td>Че делать?(((((( Я не могу больше это слушать....</td>\n",
              "      <td>0</td>\n",
              "    </tr>\n",
              "    <tr>\n",
              "      <th>6</th>\n",
              "      <td>Проснулся. Школа. Школа. Пытка. Голод. Школа. ...</td>\n",
              "      <td>0</td>\n",
              "    </tr>\n",
              "    <tr>\n",
              "      <th>7</th>\n",
              "      <td>Работницы регистратуры в поликлинике и сотрудн...</td>\n",
              "      <td>1</td>\n",
              "    </tr>\n",
              "    <tr>\n",
              "      <th>8</th>\n",
              "      <td>Да какая разница насколько он ее младше? Главн...</td>\n",
              "      <td>1</td>\n",
              "    </tr>\n",
              "    <tr>\n",
              "      <th>9</th>\n",
              "      <td>@Olga_PrimeTime, Мне не надо денег, мне не над...</td>\n",
              "      <td>1</td>\n",
              "    </tr>\n",
              "  </tbody>\n",
              "</table>\n",
              "</div>\n",
              "    <div class=\"colab-df-buttons\">\n",
              "\n",
              "  <div class=\"colab-df-container\">\n",
              "    <button class=\"colab-df-convert\" onclick=\"convertToInteractive('df-89c63817-685f-4dc8-a4ae-fd8d8f51d705')\"\n",
              "            title=\"Convert this dataframe to an interactive table.\"\n",
              "            style=\"display:none;\">\n",
              "\n",
              "  <svg xmlns=\"http://www.w3.org/2000/svg\" height=\"24px\" viewBox=\"0 -960 960 960\">\n",
              "    <path d=\"M120-120v-720h720v720H120Zm60-500h600v-160H180v160Zm220 220h160v-160H400v160Zm0 220h160v-160H400v160ZM180-400h160v-160H180v160Zm440 0h160v-160H620v160ZM180-180h160v-160H180v160Zm440 0h160v-160H620v160Z\"/>\n",
              "  </svg>\n",
              "    </button>\n",
              "\n",
              "  <style>\n",
              "    .colab-df-container {\n",
              "      display:flex;\n",
              "      gap: 12px;\n",
              "    }\n",
              "\n",
              "    .colab-df-convert {\n",
              "      background-color: #E8F0FE;\n",
              "      border: none;\n",
              "      border-radius: 50%;\n",
              "      cursor: pointer;\n",
              "      display: none;\n",
              "      fill: #1967D2;\n",
              "      height: 32px;\n",
              "      padding: 0 0 0 0;\n",
              "      width: 32px;\n",
              "    }\n",
              "\n",
              "    .colab-df-convert:hover {\n",
              "      background-color: #E2EBFA;\n",
              "      box-shadow: 0px 1px 2px rgba(60, 64, 67, 0.3), 0px 1px 3px 1px rgba(60, 64, 67, 0.15);\n",
              "      fill: #174EA6;\n",
              "    }\n",
              "\n",
              "    .colab-df-buttons div {\n",
              "      margin-bottom: 4px;\n",
              "    }\n",
              "\n",
              "    [theme=dark] .colab-df-convert {\n",
              "      background-color: #3B4455;\n",
              "      fill: #D2E3FC;\n",
              "    }\n",
              "\n",
              "    [theme=dark] .colab-df-convert:hover {\n",
              "      background-color: #434B5C;\n",
              "      box-shadow: 0px 1px 3px 1px rgba(0, 0, 0, 0.15);\n",
              "      filter: drop-shadow(0px 1px 2px rgba(0, 0, 0, 0.3));\n",
              "      fill: #FFFFFF;\n",
              "    }\n",
              "  </style>\n",
              "\n",
              "    <script>\n",
              "      const buttonEl =\n",
              "        document.querySelector('#df-89c63817-685f-4dc8-a4ae-fd8d8f51d705 button.colab-df-convert');\n",
              "      buttonEl.style.display =\n",
              "        google.colab.kernel.accessAllowed ? 'block' : 'none';\n",
              "\n",
              "      async function convertToInteractive(key) {\n",
              "        const element = document.querySelector('#df-89c63817-685f-4dc8-a4ae-fd8d8f51d705');\n",
              "        const dataTable =\n",
              "          await google.colab.kernel.invokeFunction('convertToInteractive',\n",
              "                                                    [key], {});\n",
              "        if (!dataTable) return;\n",
              "\n",
              "        const docLinkHtml = 'Like what you see? Visit the ' +\n",
              "          '<a target=\"_blank\" href=https://colab.research.google.com/notebooks/data_table.ipynb>data table notebook</a>'\n",
              "          + ' to learn more about interactive tables.';\n",
              "        element.innerHTML = '';\n",
              "        dataTable['output_type'] = 'display_data';\n",
              "        await google.colab.output.renderOutput(dataTable, element);\n",
              "        const docLink = document.createElement('div');\n",
              "        docLink.innerHTML = docLinkHtml;\n",
              "        element.appendChild(docLink);\n",
              "      }\n",
              "    </script>\n",
              "  </div>\n",
              "\n",
              "\n",
              "<div id=\"df-db090d46-6bba-45c3-afee-dcb736188c74\">\n",
              "  <button class=\"colab-df-quickchart\" onclick=\"quickchart('df-db090d46-6bba-45c3-afee-dcb736188c74')\"\n",
              "            title=\"Suggest charts\"\n",
              "            style=\"display:none;\">\n",
              "\n",
              "<svg xmlns=\"http://www.w3.org/2000/svg\" height=\"24px\"viewBox=\"0 0 24 24\"\n",
              "     width=\"24px\">\n",
              "    <g>\n",
              "        <path d=\"M19 3H5c-1.1 0-2 .9-2 2v14c0 1.1.9 2 2 2h14c1.1 0 2-.9 2-2V5c0-1.1-.9-2-2-2zM9 17H7v-7h2v7zm4 0h-2V7h2v10zm4 0h-2v-4h2v4z\"/>\n",
              "    </g>\n",
              "</svg>\n",
              "  </button>\n",
              "\n",
              "<style>\n",
              "  .colab-df-quickchart {\n",
              "      --bg-color: #E8F0FE;\n",
              "      --fill-color: #1967D2;\n",
              "      --hover-bg-color: #E2EBFA;\n",
              "      --hover-fill-color: #174EA6;\n",
              "      --disabled-fill-color: #AAA;\n",
              "      --disabled-bg-color: #DDD;\n",
              "  }\n",
              "\n",
              "  [theme=dark] .colab-df-quickchart {\n",
              "      --bg-color: #3B4455;\n",
              "      --fill-color: #D2E3FC;\n",
              "      --hover-bg-color: #434B5C;\n",
              "      --hover-fill-color: #FFFFFF;\n",
              "      --disabled-bg-color: #3B4455;\n",
              "      --disabled-fill-color: #666;\n",
              "  }\n",
              "\n",
              "  .colab-df-quickchart {\n",
              "    background-color: var(--bg-color);\n",
              "    border: none;\n",
              "    border-radius: 50%;\n",
              "    cursor: pointer;\n",
              "    display: none;\n",
              "    fill: var(--fill-color);\n",
              "    height: 32px;\n",
              "    padding: 0;\n",
              "    width: 32px;\n",
              "  }\n",
              "\n",
              "  .colab-df-quickchart:hover {\n",
              "    background-color: var(--hover-bg-color);\n",
              "    box-shadow: 0 1px 2px rgba(60, 64, 67, 0.3), 0 1px 3px 1px rgba(60, 64, 67, 0.15);\n",
              "    fill: var(--button-hover-fill-color);\n",
              "  }\n",
              "\n",
              "  .colab-df-quickchart-complete:disabled,\n",
              "  .colab-df-quickchart-complete:disabled:hover {\n",
              "    background-color: var(--disabled-bg-color);\n",
              "    fill: var(--disabled-fill-color);\n",
              "    box-shadow: none;\n",
              "  }\n",
              "\n",
              "  .colab-df-spinner {\n",
              "    border: 2px solid var(--fill-color);\n",
              "    border-color: transparent;\n",
              "    border-bottom-color: var(--fill-color);\n",
              "    animation:\n",
              "      spin 1s steps(1) infinite;\n",
              "  }\n",
              "\n",
              "  @keyframes spin {\n",
              "    0% {\n",
              "      border-color: transparent;\n",
              "      border-bottom-color: var(--fill-color);\n",
              "      border-left-color: var(--fill-color);\n",
              "    }\n",
              "    20% {\n",
              "      border-color: transparent;\n",
              "      border-left-color: var(--fill-color);\n",
              "      border-top-color: var(--fill-color);\n",
              "    }\n",
              "    30% {\n",
              "      border-color: transparent;\n",
              "      border-left-color: var(--fill-color);\n",
              "      border-top-color: var(--fill-color);\n",
              "      border-right-color: var(--fill-color);\n",
              "    }\n",
              "    40% {\n",
              "      border-color: transparent;\n",
              "      border-right-color: var(--fill-color);\n",
              "      border-top-color: var(--fill-color);\n",
              "    }\n",
              "    60% {\n",
              "      border-color: transparent;\n",
              "      border-right-color: var(--fill-color);\n",
              "    }\n",
              "    80% {\n",
              "      border-color: transparent;\n",
              "      border-right-color: var(--fill-color);\n",
              "      border-bottom-color: var(--fill-color);\n",
              "    }\n",
              "    90% {\n",
              "      border-color: transparent;\n",
              "      border-bottom-color: var(--fill-color);\n",
              "    }\n",
              "  }\n",
              "</style>\n",
              "\n",
              "  <script>\n",
              "    async function quickchart(key) {\n",
              "      const quickchartButtonEl =\n",
              "        document.querySelector('#' + key + ' button');\n",
              "      quickchartButtonEl.disabled = true;  // To prevent multiple clicks.\n",
              "      quickchartButtonEl.classList.add('colab-df-spinner');\n",
              "      try {\n",
              "        const charts = await google.colab.kernel.invokeFunction(\n",
              "            'suggestCharts', [key], {});\n",
              "      } catch (error) {\n",
              "        console.error('Error during call to suggestCharts:', error);\n",
              "      }\n",
              "      quickchartButtonEl.classList.remove('colab-df-spinner');\n",
              "      quickchartButtonEl.classList.add('colab-df-quickchart-complete');\n",
              "    }\n",
              "    (() => {\n",
              "      let quickchartButtonEl =\n",
              "        document.querySelector('#df-db090d46-6bba-45c3-afee-dcb736188c74 button');\n",
              "      quickchartButtonEl.style.display =\n",
              "        google.colab.kernel.accessAllowed ? 'block' : 'none';\n",
              "    })();\n",
              "  </script>\n",
              "</div>\n",
              "    </div>\n",
              "  </div>\n"
            ],
            "text/plain": [
              "                                                Text  Class\n",
              "0  RT @Dj__De: @i_sleepwalker_ аахха китайский го...      1\n",
              "1  привет, я хочу поиграть с тобой в игру. выучи ...      0\n",
              "2  Команда #КВН школы Гейдара Алиева г.#Астрахань...      1\n",
              "3  #20FactsAboutMe \\n16. Не знаю, в какой сфере х...      0\n",
              "4  этот год я встретил на Родине! Дал себе слово ...      0\n",
              "5  Че делать?(((((( Я не могу больше это слушать....      0\n",
              "6  Проснулся. Школа. Школа. Пытка. Голод. Школа. ...      0\n",
              "7  Работницы регистратуры в поликлинике и сотрудн...      1\n",
              "8  Да какая разница насколько он ее младше? Главн...      1\n",
              "9  @Olga_PrimeTime, Мне не надо денег, мне не над...      1"
            ]
          },
          "execution_count": 11,
          "metadata": {},
          "output_type": "execute_result"
        }
      ],
      "source": [
        "X_y_train.head(10)"
      ]
    },
    {
      "cell_type": "code",
      "execution_count": null,
      "metadata": {
        "id": "agNqhfakIql5"
      },
      "outputs": [],
      "source": [
        "morph = pymorphy2.MorphAnalyzer()\n",
        "def preprocess_text(text):\n",
        "    text = text.lower().replace(\"ё\", \"е\")\n",
        "    text = re.sub('((www\\.[^\\s]+)|(https?://[^\\s]+))', ' ', text)\n",
        "    text = re.sub('@[^\\s]+', ' ', text)\n",
        "    text = re.sub('[^а-яА-Я]+', ' ', text)\n",
        "    text = re.sub(' +', ' ', text)\n",
        "    text = text.strip().split()\n",
        "    text = [morph.parse(word)[0].normal_form for word in text]\n",
        "    return text"
      ]
    },
    {
      "cell_type": "code",
      "execution_count": null,
      "metadata": {
        "id": "1QQd7lqoItnr"
      },
      "outputs": [],
      "source": [
        "train_tokens = [preprocess_text(t) for t in X_y_train[\"Text\"]]\n",
        "test_tokens = [preprocess_text(t) for t in X_y_test[\"Text\"]]"
      ]
    },
    {
      "cell_type": "code",
      "execution_count": null,
      "metadata": {
        "colab": {
          "base_uri": "https://localhost:8080/"
        },
        "id": "6YkkHacqIyI_",
        "outputId": "94632701-5b6d-4a47-c094-36c3ee62df95"
      },
      "outputs": [
        {
          "name": "stdout",
          "output_type": "stream",
          "text": [
            "['аахха', 'китайский', 'город', 'в', 'центр', 'украина', 'прийтись', 'просить', 'автономность', 'быть', 'автономный', 'республика', 'винница']\n"
          ]
        }
      ],
      "source": [
        "print(train_tokens[0])"
      ]
    },
    {
      "cell_type": "markdown",
      "metadata": {
        "id": "j9sNC_LqJ6bz"
      },
      "source": [
        "##Модели"
      ]
    },
    {
      "cell_type": "code",
      "execution_count": null,
      "metadata": {
        "id": "-NDi3Ktzcg0F"
      },
      "outputs": [],
      "source": [
        "my_w2v_vectors = KeyedVectors.load_word2vec_format('/content/my_w2v.vectors', binary=False)"
      ]
    },
    {
      "cell_type": "code",
      "execution_count": null,
      "metadata": {
        "colab": {
          "base_uri": "https://localhost:8080/"
        },
        "id": "zt1C_5QlOuG8",
        "outputId": "6eb80c70-eb56-4877-fc9b-c8a3f2eb2a5b"
      },
      "outputs": [],
      "source": [
        "pretrained_ft_vectors = gensim.models.KeyedVectors.load('/content/drive/MyDrive/213/model.model')\n",
        "pretrained_ft_vectors.init_sims(replace=True)"
      ]
    },
    {
      "cell_type": "code",
      "execution_count": null,
      "metadata": {
        "id": "TrXuC9AaKQiL"
      },
      "outputs": [],
      "source": [
        "def get_vector(word_vectors, sentence):\n",
        "    vector = []\n",
        "    for word in sentence:\n",
        "        if word in word_vectors:\n",
        "            vector.append(word_vectors[word])\n",
        "    return vector"
      ]
    },
    {
      "cell_type": "code",
      "execution_count": null,
      "metadata": {
        "id": "1FiB3-ajKUEc"
      },
      "outputs": [],
      "source": [
        "def padding_sentence(sentence, seq_length, value):\n",
        "    while len(sentence) < seq_length:\n",
        "        sentence.append(np.zeros(300 ,dtype=np.float32))\n",
        "    else:\n",
        "        return sentence[:seq_length]"
      ]
    },
    {
      "cell_type": "code",
      "execution_count": null,
      "metadata": {
        "id": "bSau07xiKbl8"
      },
      "outputs": [],
      "source": [
        "class TextClassifier(nn.Module):\n",
        "    def __init__(self, params):\n",
        "        super(TextClassifier, self).__init__()\n",
        "        self.POL = 3\n",
        "        self.STRIDE = params['stride']\n",
        "        self.dropout = nn.Dropout(0.25)\n",
        "        if params['init_type'] == 'kaiming_uniform_':\n",
        "            self.INIT_FUNC = kaiming_uniform_\n",
        "        else:\n",
        "            self.INIT_FUNC = xavier_uniform_\n",
        "        convs = []\n",
        "        for layer in params[\"layers\"]:\n",
        "            convnet = nn.Conv1d(layer['in_channels'], layer[\"out_channels\"], layer[\"kernel_size\"], self.STRIDE)\n",
        "            self.INIT_FUNC(convnet.weight)\n",
        "            convs.append(convnet)\n",
        "            if params['norm'] == 'BatchNorm1d':\n",
        "                convs.append(nn.BatchNorm1d(layer[\"out_channels\"]))\n",
        "            else:\n",
        "                convs.append(nn.LayerNorm(params[\"seq_length\"]-self.POL+1))\n",
        "            convs.append(nn.ReLU())\n",
        "            convs.append(nn.MaxPool1d(self.POL, self.STRIDE))\n",
        "            if params[\"dropout\"] == True:\n",
        "                convs.append(self.dropout)\n",
        "\n",
        "\n",
        "        self.conv = nn.Sequential(*convs)\n",
        "        self.fc = nn.Linear(params[\"layers\"][-1][\"out_channels\"], 1)\n",
        "\n",
        "\n",
        "        self.INIT_FUNC(self.fc.weight)\n",
        "\n",
        "    def forward(self, x):\n",
        "        x = x.transpose(1, 2).contiguous()\n",
        "        x = self.conv(x)\n",
        "        x, _ = x.max(dim=-1)\n",
        "        x = self.fc(x)\n",
        "        x = torch.sigmoid(x)\n",
        "        return x"
      ]
    },
    {
      "cell_type": "code",
      "execution_count": null,
      "metadata": {
        "id": "UhYT9AenKhl3"
      },
      "outputs": [],
      "source": [
        "result_df = pd.DataFrame(columns=['feature', 'init_type', 'dropout', 'weight_decay', 'norm', 'scheduler', 'val_F1', 'test_F1'])"
      ]
    },
    {
      "cell_type": "code",
      "execution_count": null,
      "metadata": {
        "id": "YOp5XrJ7MLZu"
      },
      "outputs": [],
      "source": [
        "def calculate_f1(grand_truth, predictions):\n",
        "    binary_pred = [1 if pred >= 0.5 else 0 for pred in predictions]\n",
        "    f1 = f1_score(grand_truth, binary_pred)\n",
        "    return f1"
      ]
    },
    {
      "cell_type": "code",
      "execution_count": null,
      "metadata": {
        "colab": {
          "base_uri": "https://localhost:8080/",
          "height": 35
        },
        "id": "AhfUewhVh_Lj",
        "outputId": "a3bca8a4-a349-40af-fb4f-4a0b417c85e4"
      },
      "outputs": [
        {
          "data": {
            "application/vnd.google.colaboratory.intrinsic+json": {
              "type": "string"
            },
            "text/plain": [
              "'cpu'"
            ]
          },
          "execution_count": 24,
          "metadata": {},
          "output_type": "execute_result"
        }
      ],
      "source": [
        "device = \"cuda\" if torch.cuda.is_available() else \"cpu\"\n",
        "device"
      ]
    },
    {
      "cell_type": "code",
      "execution_count": null,
      "metadata": {
        "id": "ejxO0RyYMulN"
      },
      "outputs": [],
      "source": [
        "def runlab(PARAMETERS, result_df):\n",
        "    res_list = []\n",
        "    if PARAMETERS[\"feature\"] == 'my_w2v':\n",
        "        train_vector = [get_vector(my_w2v_vectors, sentence) for sentence in train_tokens]\n",
        "        test_vector = [get_vector(my_w2v_vectors, sentence) for sentence in test_tokens]\n",
        "    elif PARAMETERS[\"feature\"] == 'pretrain_ft':\n",
        "        train_vector = [get_vector(pretrained_ft_vectors, sentence) for sentence in train_tokens]\n",
        "        test_vector = [get_vector(pretrained_ft_vectors, sentence) for sentence in test_tokens]\n",
        "\n",
        "\n",
        "    padded_train_vector = np.array([padding_sentence(i, PARAMETERS[\"seq_length\"], 0) for i in train_vector])\n",
        "    padded_test_vector = np.array([padding_sentence(i, PARAMETERS[\"seq_length\"], 0) for i in test_vector])\n",
        "\n",
        "    X_train, X_val, y_train, y_val = train_test_split(padded_train_vector, X_y_train[\"Class\"], test_size=0.25, random_state=42)\n",
        "\n",
        "    inputs_train =  torch.tensor(X_train)\n",
        "    targets_train = torch.IntTensor(y_train.to_numpy())\n",
        "\n",
        "    inputs_val = torch.tensor(X_val)\n",
        "    targets_val = torch.IntTensor(y_val.to_numpy())\n",
        "\n",
        "    inputs_test =  torch.tensor(padded_test_vector)\n",
        "    targets_test = torch.IntTensor(X_y_test[\"Class\"].to_numpy())\n",
        "\n",
        "\n",
        "    trainset = torch.utils.data.TensorDataset(inputs_train,targets_train)\n",
        "    valset = torch.utils.data.TensorDataset(inputs_val, targets_val)\n",
        "    testset = torch.utils.data.TensorDataset(inputs_test, targets_test)\n",
        "\n",
        "    train_loader = torch.utils.data.DataLoader(trainset,batch_size=PARAMETERS['batch_size'], shuffle=True)\n",
        "    val_loader = torch.utils.data.DataLoader(valset, batch_size=PARAMETERS['batch_size'],shuffle=False)\n",
        "    test_loader = torch.utils.data.DataLoader(testset, batch_size=PARAMETERS['batch_size'],shuffle=False)\n",
        "\n",
        "    model = TextClassifier(PARAMETERS).to(device)\n",
        "\n",
        "    if PARAMETERS[\"optimizer\"] == \"Adam\":\n",
        "        optimizer = optim.Adam(model.parameters(), lr=PARAMETERS[\"learning_rate\"], weight_decay=PARAMETERS[\"weight_decay\"])\n",
        "    else:\n",
        "        optimizer = optim.SGD(model.parameters(), lr=PARAMETERS[\"learning_rate\"], weight_decay=PARAMETERS[\"weight_decay\"])\n",
        "    if PARAMETERS[\"scheduler\"] == \"MultiStepLR\":\n",
        "        scheduler = optim.lr_scheduler.MultiStepLR(optimizer, milestones=[10], gamma=0.1)\n",
        "    else:\n",
        "        scheduler = optim.lr_scheduler.ExponentialLR(optimizer, gamma=0.1)\n",
        "    val_f1 = 0\n",
        "    for epoch in range(PARAMETERS['num_epochs']):\n",
        "        model.train()\n",
        "        predictions = []\n",
        "        for x_batch, y_batch in train_loader:\n",
        "            x_batch, y_batch = x_batch.to(device), y_batch.to(device)\n",
        "            y_batch = y_batch.type(torch.FloatTensor)\n",
        "            y_pred = model(x_batch).cpu()\n",
        "            loss = F.binary_cross_entropy(y_pred, y_batch.unsqueeze(1))\n",
        "            optimizer.zero_grad()\n",
        "            loss.backward()\n",
        "            optimizer.step()\n",
        "            predictions += list(y_pred.cpu().detach().numpy())\n",
        "\n",
        "        model.eval()\n",
        "        val_predictions = []\n",
        "        with torch.no_grad():\n",
        "            for x_batch, y_batch in val_loader:\n",
        "                x_batch, y_batch = x_batch.to(device), y_batch.to(device)\n",
        "                y_pred = model(x_batch)\n",
        "                val_predictions += list(y_pred.cpu().detach().numpy())\n",
        "\n",
        "        scheduler.step()\n",
        "        model.eval()\n",
        "        test_predictions = []\n",
        "        with torch.no_grad():\n",
        "            for x_batch, y_batch in test_loader:\n",
        "                x_batch, y_batch = x_batch.to(device), y_batch.to(device)\n",
        "                y_pred = model(x_batch)\n",
        "                test_predictions += list(y_pred.cpu().detach().numpy())\n",
        "        val_f1 = calculate_f1(y_val, val_predictions)\n",
        "        test_f1 = calculate_f1(X_y_test[\"Class\"], test_predictions)\n",
        "    new_row = {'feature': PARAMETERS[\"feature\"], 'init_type': PARAMETERS[\"init_type\"],'dropout': PARAMETERS[\"dropout\"],'weight_decay': PARAMETERS[\"weight_decay\"],'norm': PARAMETERS[\"norm\"], 'scheduler': PARAMETERS[\"scheduler\"], 'val_F1':val_f1, 'test_F1': test_f1}\n",
        "    res_list.append(new_row)\n",
        "    final_res_df = pd.concat([result_df, pd.DataFrame(res_list)], ignore_index=True)\n",
        "\n",
        "    print('val F1:', val_f1)\n",
        "    return final_res_df\n"
      ]
    },
    {
      "cell_type": "markdown",
      "metadata": {
        "id": "-VkppqFQNRP7"
      },
      "source": [
        "##Параметры"
      ]
    },
    {
      "cell_type": "markdown",
      "metadata": {
        "id": "DWK3PH3wSW4j"
      },
      "source": [
        "###MY W2V"
      ]
    },
    {
      "cell_type": "code",
      "execution_count": null,
      "metadata": {
        "colab": {
          "base_uri": "https://localhost:8080/"
        },
        "id": "yRi8MyRkNU2Y",
        "outputId": "36d851a1-3d38-469d-c7ed-543c797d3fa4"
      },
      "outputs": [
        {
          "name": "stdout",
          "output_type": "stream",
          "text": [
            "val F1: 0.6706627847234115\n"
          ]
        }
      ],
      "source": [
        "#Начальные параметры\n",
        "PARAMETERS = {\n",
        "    # - Preprocessing parameeters -\n",
        "    'feature': 'my_w2v',\n",
        "    'seq_length': 20,\n",
        "    # - Model parameters -\n",
        "    'init_type': 'kaiming_uniform_', # xavier_uniform_\n",
        "    'optimizer': 'ADAM',\n",
        "    'layers': [{'in_channels': 300,'out_channels': 400, 'kernel_size': 3}],\n",
        "    'stride': 1,\n",
        "    'dropout': False, # True\n",
        "    'weight_decay': 0, # 1e-5\n",
        "    'norm':'BatchNorm1d', # LayerNorm\n",
        "    # - Training parameters -\n",
        "    'num_epochs': 10,\n",
        "    'batch_size': 16,\n",
        "    'learning_rate': 0.001,\n",
        "    'scheduler': 'MultiStepLR' # ExponentialLR\n",
        "}\n",
        "result_df = runlab(PARAMETERS, result_df)\n"
      ]
    },
    {
      "cell_type": "code",
      "execution_count": null,
      "metadata": {
        "colab": {
          "base_uri": "https://localhost:8080/"
        },
        "id": "g_yUoQzqQfmb",
        "outputId": "bec86b62-e79c-4614-dca4-b629e7e89476"
      },
      "outputs": [
        {
          "name": "stdout",
          "output_type": "stream",
          "text": [
            "val F1: 0.6063100137174211\n"
          ]
        }
      ],
      "source": [
        "#Начальная инициализация весов\n",
        "PARAMETERS = {\n",
        "    # - Preprocessing parameeters -\n",
        "    'feature': 'my_w2v',\n",
        "    'seq_length': 20,\n",
        "    # - Model parameters -\n",
        "    'init_type': 'xavier_uniform_', # xavier_uniform_\n",
        "    'optimizer': 'ADAM',\n",
        "    'layers': [{'in_channels': 300,'out_channels': 400, 'kernel_size': 3}],\n",
        "    'stride': 1,\n",
        "    'dropout': False, # True\n",
        "    'weight_decay': 0, # 1e-5\n",
        "    'norm':'BatchNorm1d', # LayerNorm\n",
        "    # - Training parameters -\n",
        "    'num_epochs': 10,\n",
        "    'batch_size': 16,\n",
        "    'learning_rate': 0.001,\n",
        "    'scheduler': 'MultiStepLR' # ExponentialLR\n",
        "}\n",
        "result_df = runlab(PARAMETERS, result_df)\n"
      ]
    },
    {
      "cell_type": "code",
      "execution_count": null,
      "metadata": {
        "colab": {
          "base_uri": "https://localhost:8080/"
        },
        "id": "oDl2HGB-Qrvh",
        "outputId": "4fdaca51-12b6-4e3d-86e3-b82a44f4d061"
      },
      "outputs": [
        {
          "name": "stdout",
          "output_type": "stream",
          "text": [
            "val F1: 0.5779048396977741\n"
          ]
        }
      ],
      "source": [
        "#Дропаут\n",
        "PARAMETERS = {\n",
        "    # - Preprocessing parameters -\n",
        "    'feature': 'my_w2v',\n",
        "    'seq_length': 20,\n",
        "    # - Model parameters -\n",
        "    'init_type': 'kaiming_uniform_', # xavier_uniform_\n",
        "    'optimizer': 'ADAM',\n",
        "    'layers': [{'in_channels': 300,'out_channels': 400, 'kernel_size': 3}],\n",
        "    'stride': 1,\n",
        "    'dropout': True, # False\n",
        "    'weight_decay': 0, # 1e-5\n",
        "    'norm':'BatchNorm1d', # LayerNorm\n",
        "    # - Training parameters -\n",
        "    'num_epochs': 10,\n",
        "    'batch_size': 16,\n",
        "    'learning_rate': 0.001,\n",
        "    'scheduler': 'MultiStepLR' # ExponentialLR\n",
        "}\n",
        "result_df = runlab(PARAMETERS, result_df)"
      ]
    },
    {
      "cell_type": "code",
      "execution_count": null,
      "metadata": {
        "colab": {
          "base_uri": "https://localhost:8080/"
        },
        "id": "cjwHeY3-Q0H-",
        "outputId": "7077212a-0133-48c2-cef1-fed3288b23b0"
      },
      "outputs": [
        {
          "name": "stdout",
          "output_type": "stream",
          "text": [
            "val F1: 0.6761936785474107\n"
          ]
        }
      ],
      "source": [
        "#L2\n",
        "PARAMETERS = {\n",
        "    # - Preprocessing parameters -\n",
        "    'feature': 'my_w2v',\n",
        "    'seq_length': 20,\n",
        "    # - Model parameters -\n",
        "    'init_type': 'kaiming_uniform_', # xavier_uniform_\n",
        "    'optimizer': 'ADAM',\n",
        "    'layers': [{'in_channels': 300,'out_channels': 400, 'kernel_size': 3}],\n",
        "    'stride': 1,\n",
        "    'dropout': False, # True\n",
        "    'weight_decay': 1e-5, # 0\n",
        "    'norm':'BatchNorm1d', # LayerNorm\n",
        "    # - Training parameters -\n",
        "    'num_epochs': 10,\n",
        "    'batch_size': 16,\n",
        "    'learning_rate': 0.001,\n",
        "    'scheduler': 'MultiStepLR' # ExponentialLR\n",
        "}\n",
        "result_df = runlab(PARAMETERS, result_df)"
      ]
    },
    {
      "cell_type": "code",
      "execution_count": null,
      "metadata": {
        "colab": {
          "base_uri": "https://localhost:8080/"
        },
        "id": "kc6OX1hHR5fs",
        "outputId": "42b1851a-c4ab-44c8-ff10-1f0eef93c835"
      },
      "outputs": [
        {
          "name": "stdout",
          "output_type": "stream",
          "text": [
            "val F1: 0.615494721774915\n"
          ]
        }
      ],
      "source": [
        "#Нормализация\n",
        "PARAMETERS = {\n",
        "    # - Preprocessing parameters -\n",
        "    'feature': 'my_w2v',\n",
        "    'seq_length': 20,\n",
        "    # - Model parameters -\n",
        "    'init_type': 'kaiming_uniform_', # xavier_uniform_\n",
        "    'optimizer': 'ADAM',\n",
        "    'layers': [{'in_channels': 300,'out_channels': 400, 'kernel_size': 3}],\n",
        "    'stride': 1,\n",
        "    'dropout': False, # True\n",
        "    'weight_decay': 0, # 1e-5\n",
        "    'norm':'LayerNorm', #  BatchNorm1d\n",
        "    # - Training parameters -\n",
        "    'num_epochs': 10,\n",
        "    'batch_size': 16,\n",
        "    'learning_rate': 0.001,\n",
        "    'scheduler': 'MultiStepLR' # ExponentialLR\n",
        "}\n",
        "result_df = runlab(PARAMETERS, result_df)"
      ]
    },
    {
      "cell_type": "code",
      "execution_count": null,
      "metadata": {
        "colab": {
          "base_uri": "https://localhost:8080/"
        },
        "id": "G--SvJ4ZSAHR",
        "outputId": "3ddcc712-1ee5-4077-cf0a-ce7cbbf6b9c1"
      },
      "outputs": [
        {
          "name": "stdout",
          "output_type": "stream",
          "text": [
            "val F1: 0.6259791122715405\n"
          ]
        }
      ],
      "source": [
        "#Настройка скорости обучения\n",
        "PARAMETERS = {\n",
        "    # - Preprocessing parameters -\n",
        "    'feature': 'my_w2v',\n",
        "    'seq_length': 20,\n",
        "    # - Model parameters -\n",
        "    'init_type': 'kaiming_uniform_', # xavier_uniform_\n",
        "    'optimizer': 'ADAM',\n",
        "    'layers': [{'in_channels': 300,'out_channels': 400, 'kernel_size': 3}],\n",
        "    'stride': 1,\n",
        "    'dropout': False, # True\n",
        "    'weight_decay': 0, # 1e-5\n",
        "    'norm':'BatchNorm1d', # LayerNorm\n",
        "    # - Training parameters -\n",
        "    'num_epochs': 10,\n",
        "    'batch_size': 16,\n",
        "    'learning_rate': 0.001,\n",
        "    'scheduler': 'ExponentialLR' #  MultiStepLR\n",
        "}\n",
        "result_df = runlab(PARAMETERS, result_df)\n"
      ]
    },
    {
      "cell_type": "markdown",
      "metadata": {
        "id": "YX5QijZ-Sh3F"
      },
      "source": [
        "###Pretrained FastText"
      ]
    },
    {
      "cell_type": "code",
      "execution_count": null,
      "metadata": {
        "colab": {
          "base_uri": "https://localhost:8080/"
        },
        "id": "sF36teUQStMm",
        "outputId": "ae9d3022-3d29-4286-ebc4-b6774077d8f8"
      },
      "outputs": [
        {
          "name": "stdout",
          "output_type": "stream",
          "text": [
            "val F1: 0.659585403460682\n"
          ]
        }
      ],
      "source": [
        "#Начальные параметры\n",
        "PARAMETERS = {\n",
        "    # - Preprocessing parameters -\n",
        "    'feature': 'pretrain_ft',\n",
        "    'seq_length': 20,\n",
        "    # - Model parameters -\n",
        "    'init_type': 'kaiming_uniform_', # xavier_uniform_\n",
        "    'optimizer': 'ADAM',\n",
        "    'layers': [{'in_channels': 300,'out_channels': 400, 'kernel_size': 3}],\n",
        "    'stride': 1,\n",
        "    'dropout': False, # True\n",
        "    'weight_decay': 0, # 1e-5\n",
        "    'norm':'BatchNorm1d', # LayerNorm\n",
        "    # - Training parameters -\n",
        "    'num_epochs': 10,\n",
        "    'batch_size': 16,\n",
        "    'learning_rate': 0.001,\n",
        "    'scheduler': 'MultiStepLR' # ExponentialLR\n",
        "}\n",
        "result_df = runlab(PARAMETERS, result_df)"
      ]
    },
    {
      "cell_type": "code",
      "execution_count": null,
      "metadata": {
        "colab": {
          "base_uri": "https://localhost:8080/"
        },
        "id": "2jvAhK4BSy5d",
        "outputId": "1e5d19bf-a18f-4634-c472-d4560f36ead7"
      },
      "outputs": [
        {
          "name": "stdout",
          "output_type": "stream",
          "text": [
            "val F1: 0.7073170731707318\n"
          ]
        }
      ],
      "source": [
        "#Начальная инициализация весов\n",
        "PARAMETERS = {\n",
        "    # - Preprocessing parameters -\n",
        "    'feature': 'pretrain_ft',\n",
        "    'seq_length': 20,\n",
        "    # - Model parameters -\n",
        "    'init_type': 'xavier_uniform_', #  kaiming_uniform_\n",
        "    'optimizer': 'ADAM',\n",
        "    'layers': [{'in_channels': 300,'out_channels': 400, 'kernel_size': 3}],\n",
        "    'stride': 1,\n",
        "    'dropout': False, # True\n",
        "    'weight_decay': 0, # 1e-5\n",
        "    'norm':'BatchNorm1d', # LayerNorm\n",
        "    # - Training parameters -\n",
        "    'num_epochs': 10,\n",
        "    'batch_size': 16,\n",
        "    'learning_rate': 0.001,\n",
        "    'scheduler': 'MultiStepLR' # ExponentialLR\n",
        "}\n",
        "result_df = runlab(PARAMETERS, result_df)"
      ]
    },
    {
      "cell_type": "code",
      "execution_count": null,
      "metadata": {
        "colab": {
          "base_uri": "https://localhost:8080/"
        },
        "id": "VTg-e5BvTp-J",
        "outputId": "36c76784-5dff-458e-a037-f33fb3d04633"
      },
      "outputs": [
        {
          "name": "stdout",
          "output_type": "stream",
          "text": [
            "val F1: 0.7156451161488945\n"
          ]
        }
      ],
      "source": [
        "#Регуляризация\n",
        "PARAMETERS = {\n",
        "    # - Preprocessing parameters -\n",
        "    'feature': 'pretrain_ft',\n",
        "    'seq_length': 20,\n",
        "    # - Model parameters -\n",
        "    'init_type': 'kaiming_uniform_', # xavier_uniform_\n",
        "    'optimizer': 'ADAM',\n",
        "    'layers': [{'in_channels': 300,'out_channels': 400, 'kernel_size': 3}],\n",
        "    'stride': 1,\n",
        "    'dropout': True, # False\n",
        "    'weight_decay': 0, # 1e-5\n",
        "    'norm':'BatchNorm1d', # LayerNorm\n",
        "    # - Training parameters -\n",
        "    'num_epochs': 10,\n",
        "    'batch_size': 16,\n",
        "    'learning_rate': 0.001,\n",
        "    'scheduler': 'MultiStepLR' # ExponentialLR\n",
        "}\n",
        "result_df = runlab(PARAMETERS, result_df)"
      ]
    },
    {
      "cell_type": "code",
      "execution_count": null,
      "metadata": {
        "colab": {
          "base_uri": "https://localhost:8080/"
        },
        "id": "wwoTNBALTvV6",
        "outputId": "9386a33c-9379-4c46-e6ae-258025a1df7e"
      },
      "outputs": [
        {
          "name": "stdout",
          "output_type": "stream",
          "text": [
            "val F1: 0.6154138915318744\n"
          ]
        }
      ],
      "source": [
        "PARAMETERS = {\n",
        "    # - Preprocessing parameters -\n",
        "    'feature': 'pretrain_ft',\n",
        "    'seq_length': 20,\n",
        "    # - Model parameters -\n",
        "    'init_type': 'kaiming_uniform_', # xavier_uniform_\n",
        "    'optimizer': 'ADAM',\n",
        "    'layers': [{'in_channels': 300,'out_channels': 400, 'kernel_size': 3}],\n",
        "    'stride': 1,\n",
        "    'dropout': False, # True\n",
        "    'weight_decay': 1e-5, # 0\n",
        "    'norm':'BatchNorm1d', # LayerNorm\n",
        "    # - Training parameters -\n",
        "    'num_epochs': 10,\n",
        "    'batch_size': 16,\n",
        "    'learning_rate': 0.001,\n",
        "    'scheduler': 'MultiStepLR' # ExponentialLR\n",
        "}\n",
        "result_df = runlab(PARAMETERS, result_df)"
      ]
    },
    {
      "cell_type": "code",
      "execution_count": null,
      "metadata": {
        "colab": {
          "base_uri": "https://localhost:8080/"
        },
        "id": "fsObKYM8Tyec",
        "outputId": "7743b925-0a1c-47d3-f030-0c4dd2d6b272"
      },
      "outputs": [
        {
          "name": "stdout",
          "output_type": "stream",
          "text": [
            "val F1: 0.6187279151943463\n"
          ]
        }
      ],
      "source": [
        "#Нормализация\n",
        "PARAMETERS = {\n",
        "    # - Preprocessing parameters -\n",
        "    'feature': 'pretrain_ft',\n",
        "    'seq_length': 20,\n",
        "    # - Model parameters -\n",
        "    'init_type': 'kaiming_uniform_', # xavier_uniform_\n",
        "    'optimizer': 'ADAM',\n",
        "    'layers': [{'in_channels': 300,'out_channels': 400, 'kernel_size': 3}],\n",
        "    'stride': 1,\n",
        "    'dropout': False, # True\n",
        "    'weight_decay': 0, # 1e-5\n",
        "    'norm':'LayerNorm', # BatchNorm1d\n",
        "    # - Training parameters -\n",
        "    'num_epochs': 10,\n",
        "    'batch_size': 16,\n",
        "    'learning_rate': 0.001,\n",
        "    'scheduler': 'MultiStepLR' # ExponentialLR\n",
        "}\n",
        "result_df = runlab(PARAMETERS, result_df)"
      ]
    },
    {
      "cell_type": "code",
      "execution_count": null,
      "metadata": {
        "colab": {
          "base_uri": "https://localhost:8080/"
        },
        "id": "DHD78tp3T6F_",
        "outputId": "65d348ce-8480-4a57-a19d-f5ff538b3b83"
      },
      "outputs": [
        {
          "name": "stdout",
          "output_type": "stream",
          "text": [
            "val F1: 0.6074895977808599\n"
          ]
        }
      ],
      "source": [
        "#Скорость обучения\n",
        "PARAMETERS = {\n",
        "    # - Preprocessing parameters -\n",
        "    'feature': 'pretrain_ft',\n",
        "    'seq_length': 20,\n",
        "    # - Model parameters -\n",
        "    'init_type': 'kaiming_uniform_', # xavier_uniform_\n",
        "    'optimizer': 'ADAM',\n",
        "    'layers': [{'in_channels': 300,'out_channels': 400, 'kernel_size': 3}],\n",
        "    'stride': 1,\n",
        "    'dropout': False, # True\n",
        "    'weight_decay': 0, # 1e-5\n",
        "    'norm':'BatchNorm1d', # LayerNorm\n",
        "    # - Training parameters -\n",
        "    'num_epochs': 10,\n",
        "    'batch_size': 16,\n",
        "    'learning_rate': 0.001,\n",
        "    'scheduler': 'ExponentialLR' # MultiStepLR\n",
        "}\n",
        "result_df = runlab(PARAMETERS, result_df)"
      ]
    },
    {
      "cell_type": "markdown",
      "metadata": {
        "id": "zrU8Yr9cN8Ki"
      },
      "source": [
        "##Результаты"
      ]
    },
    {
      "cell_type": "code",
      "execution_count": null,
      "metadata": {
        "colab": {
          "base_uri": "https://localhost:8080/",
          "height": 421
        },
        "id": "QtPnXpCaNRfK",
        "outputId": "edfdb8a3-240c-4795-bffa-02313fe69e69"
      },
      "outputs": [
        {
          "data": {
            "application/vnd.google.colaboratory.intrinsic+json": {
              "summary": "{\n  \"name\": \"result_df\",\n  \"rows\": 12,\n  \"fields\": [\n    {\n      \"column\": \"feature\",\n      \"properties\": {\n        \"dtype\": \"category\",\n        \"num_unique_values\": 2,\n        \"samples\": [\n          \"my_w2v\",\n          \"pretrain_ft\"\n        ],\n        \"semantic_type\": \"\",\n        \"description\": \"\"\n      }\n    },\n    {\n      \"column\": \"init_type\",\n      \"properties\": {\n        \"dtype\": \"category\",\n        \"num_unique_values\": 2,\n        \"samples\": [\n          \"kaiming_uniform_\",\n          \"xavier_uniform_\"\n        ],\n        \"semantic_type\": \"\",\n        \"description\": \"\"\n      }\n    },\n    {\n      \"column\": \"dropout\",\n      \"properties\": {\n        \"dtype\": \"category\",\n        \"num_unique_values\": 2,\n        \"samples\": [\n          true,\n          false\n        ],\n        \"semantic_type\": \"\",\n        \"description\": \"\"\n      }\n    },\n    {\n      \"column\": \"weight_decay\",\n      \"properties\": {\n        \"dtype\": \"date\",\n        \"min\": 0,\n        \"max\": 1e-05,\n        \"num_unique_values\": 2,\n        \"samples\": [\n          1e-05,\n          0\n        ],\n        \"semantic_type\": \"\",\n        \"description\": \"\"\n      }\n    },\n    {\n      \"column\": \"norm\",\n      \"properties\": {\n        \"dtype\": \"category\",\n        \"num_unique_values\": 2,\n        \"samples\": [\n          \"LayerNorm\",\n          \"BatchNorm1d\"\n        ],\n        \"semantic_type\": \"\",\n        \"description\": \"\"\n      }\n    },\n    {\n      \"column\": \"scheduler\",\n      \"properties\": {\n        \"dtype\": \"category\",\n        \"num_unique_values\": 2,\n        \"samples\": [\n          \"ExponentialLR\",\n          \"MultiStepLR\"\n        ],\n        \"semantic_type\": \"\",\n        \"description\": \"\"\n      }\n    },\n    {\n      \"column\": \"val_F1\",\n      \"properties\": {\n        \"dtype\": \"number\",\n        \"std\": 0.04344909586081041,\n        \"min\": 0.5779048396977741,\n        \"max\": 0.7156451161488945,\n        \"num_unique_values\": 12,\n        \"samples\": [\n          0.5779048396977741,\n          0.6074895977808599\n        ],\n        \"semantic_type\": \"\",\n        \"description\": \"\"\n      }\n    },\n    {\n      \"column\": \"test_F1\",\n      \"properties\": {\n        \"dtype\": \"number\",\n        \"std\": 0.08208734870943787,\n        \"min\": 0.5283018867924528,\n        \"max\": 0.8070175438596491,\n        \"num_unique_values\": 12,\n        \"samples\": [\n          0.6086956521739131,\n          0.6428571428571429\n        ],\n        \"semantic_type\": \"\",\n        \"description\": \"\"\n      }\n    }\n  ]\n}",
              "type": "dataframe"
            },
            "text/html": [
              "\n",
              "  <div id=\"df-de6814e1-aeb5-4838-ae33-f49b2cf06e37\" class=\"colab-df-container\">\n",
              "    <div>\n",
              "<style scoped>\n",
              "    .dataframe tbody tr th:only-of-type {\n",
              "        vertical-align: middle;\n",
              "    }\n",
              "\n",
              "    .dataframe tbody tr th {\n",
              "        vertical-align: top;\n",
              "    }\n",
              "\n",
              "    .dataframe thead th {\n",
              "        text-align: right;\n",
              "    }\n",
              "</style>\n",
              "<table border=\"1\" class=\"dataframe\">\n",
              "  <thead>\n",
              "    <tr style=\"text-align: right;\">\n",
              "      <th></th>\n",
              "      <th>feature</th>\n",
              "      <th>init_type</th>\n",
              "      <th>dropout</th>\n",
              "      <th>weight_decay</th>\n",
              "      <th>norm</th>\n",
              "      <th>scheduler</th>\n",
              "      <th>val_F1</th>\n",
              "      <th>test_F1</th>\n",
              "    </tr>\n",
              "  </thead>\n",
              "  <tbody>\n",
              "    <tr>\n",
              "      <th>7</th>\n",
              "      <td>pretrain_ft</td>\n",
              "      <td>xavier_uniform_</td>\n",
              "      <td>False</td>\n",
              "      <td>0</td>\n",
              "      <td>BatchNorm1d</td>\n",
              "      <td>MultiStepLR</td>\n",
              "      <td>0.707317</td>\n",
              "      <td>0.807018</td>\n",
              "    </tr>\n",
              "    <tr>\n",
              "      <th>3</th>\n",
              "      <td>my_w2v</td>\n",
              "      <td>kaiming_uniform_</td>\n",
              "      <td>False</td>\n",
              "      <td>0.00001</td>\n",
              "      <td>BatchNorm1d</td>\n",
              "      <td>MultiStepLR</td>\n",
              "      <td>0.676194</td>\n",
              "      <td>0.784314</td>\n",
              "    </tr>\n",
              "    <tr>\n",
              "      <th>8</th>\n",
              "      <td>pretrain_ft</td>\n",
              "      <td>kaiming_uniform_</td>\n",
              "      <td>True</td>\n",
              "      <td>0</td>\n",
              "      <td>BatchNorm1d</td>\n",
              "      <td>MultiStepLR</td>\n",
              "      <td>0.715645</td>\n",
              "      <td>0.774194</td>\n",
              "    </tr>\n",
              "    <tr>\n",
              "      <th>5</th>\n",
              "      <td>my_w2v</td>\n",
              "      <td>kaiming_uniform_</td>\n",
              "      <td>False</td>\n",
              "      <td>0</td>\n",
              "      <td>BatchNorm1d</td>\n",
              "      <td>ExponentialLR</td>\n",
              "      <td>0.625979</td>\n",
              "      <td>0.771930</td>\n",
              "    </tr>\n",
              "    <tr>\n",
              "      <th>6</th>\n",
              "      <td>pretrain_ft</td>\n",
              "      <td>kaiming_uniform_</td>\n",
              "      <td>False</td>\n",
              "      <td>0</td>\n",
              "      <td>BatchNorm1d</td>\n",
              "      <td>MultiStepLR</td>\n",
              "      <td>0.659585</td>\n",
              "      <td>0.745098</td>\n",
              "    </tr>\n",
              "    <tr>\n",
              "      <th>0</th>\n",
              "      <td>my_w2v</td>\n",
              "      <td>kaiming_uniform_</td>\n",
              "      <td>False</td>\n",
              "      <td>0</td>\n",
              "      <td>BatchNorm1d</td>\n",
              "      <td>MultiStepLR</td>\n",
              "      <td>0.670663</td>\n",
              "      <td>0.727273</td>\n",
              "    </tr>\n",
              "    <tr>\n",
              "      <th>10</th>\n",
              "      <td>pretrain_ft</td>\n",
              "      <td>kaiming_uniform_</td>\n",
              "      <td>False</td>\n",
              "      <td>0</td>\n",
              "      <td>LayerNorm</td>\n",
              "      <td>MultiStepLR</td>\n",
              "      <td>0.618728</td>\n",
              "      <td>0.716981</td>\n",
              "    </tr>\n",
              "    <tr>\n",
              "      <th>1</th>\n",
              "      <td>my_w2v</td>\n",
              "      <td>xavier_uniform_</td>\n",
              "      <td>False</td>\n",
              "      <td>0</td>\n",
              "      <td>BatchNorm1d</td>\n",
              "      <td>MultiStepLR</td>\n",
              "      <td>0.606310</td>\n",
              "      <td>0.695652</td>\n",
              "    </tr>\n",
              "    <tr>\n",
              "      <th>9</th>\n",
              "      <td>pretrain_ft</td>\n",
              "      <td>kaiming_uniform_</td>\n",
              "      <td>False</td>\n",
              "      <td>0.00001</td>\n",
              "      <td>BatchNorm1d</td>\n",
              "      <td>MultiStepLR</td>\n",
              "      <td>0.615414</td>\n",
              "      <td>0.666667</td>\n",
              "    </tr>\n",
              "    <tr>\n",
              "      <th>11</th>\n",
              "      <td>pretrain_ft</td>\n",
              "      <td>kaiming_uniform_</td>\n",
              "      <td>False</td>\n",
              "      <td>0</td>\n",
              "      <td>BatchNorm1d</td>\n",
              "      <td>ExponentialLR</td>\n",
              "      <td>0.607490</td>\n",
              "      <td>0.642857</td>\n",
              "    </tr>\n",
              "    <tr>\n",
              "      <th>2</th>\n",
              "      <td>my_w2v</td>\n",
              "      <td>kaiming_uniform_</td>\n",
              "      <td>True</td>\n",
              "      <td>0</td>\n",
              "      <td>BatchNorm1d</td>\n",
              "      <td>MultiStepLR</td>\n",
              "      <td>0.577905</td>\n",
              "      <td>0.608696</td>\n",
              "    </tr>\n",
              "    <tr>\n",
              "      <th>4</th>\n",
              "      <td>my_w2v</td>\n",
              "      <td>kaiming_uniform_</td>\n",
              "      <td>False</td>\n",
              "      <td>0</td>\n",
              "      <td>LayerNorm</td>\n",
              "      <td>MultiStepLR</td>\n",
              "      <td>0.615495</td>\n",
              "      <td>0.528302</td>\n",
              "    </tr>\n",
              "  </tbody>\n",
              "</table>\n",
              "</div>\n",
              "    <div class=\"colab-df-buttons\">\n",
              "\n",
              "  <div class=\"colab-df-container\">\n",
              "    <button class=\"colab-df-convert\" onclick=\"convertToInteractive('df-de6814e1-aeb5-4838-ae33-f49b2cf06e37')\"\n",
              "            title=\"Convert this dataframe to an interactive table.\"\n",
              "            style=\"display:none;\">\n",
              "\n",
              "  <svg xmlns=\"http://www.w3.org/2000/svg\" height=\"24px\" viewBox=\"0 -960 960 960\">\n",
              "    <path d=\"M120-120v-720h720v720H120Zm60-500h600v-160H180v160Zm220 220h160v-160H400v160Zm0 220h160v-160H400v160ZM180-400h160v-160H180v160Zm440 0h160v-160H620v160ZM180-180h160v-160H180v160Zm440 0h160v-160H620v160Z\"/>\n",
              "  </svg>\n",
              "    </button>\n",
              "\n",
              "  <style>\n",
              "    .colab-df-container {\n",
              "      display:flex;\n",
              "      gap: 12px;\n",
              "    }\n",
              "\n",
              "    .colab-df-convert {\n",
              "      background-color: #E8F0FE;\n",
              "      border: none;\n",
              "      border-radius: 50%;\n",
              "      cursor: pointer;\n",
              "      display: none;\n",
              "      fill: #1967D2;\n",
              "      height: 32px;\n",
              "      padding: 0 0 0 0;\n",
              "      width: 32px;\n",
              "    }\n",
              "\n",
              "    .colab-df-convert:hover {\n",
              "      background-color: #E2EBFA;\n",
              "      box-shadow: 0px 1px 2px rgba(60, 64, 67, 0.3), 0px 1px 3px 1px rgba(60, 64, 67, 0.15);\n",
              "      fill: #174EA6;\n",
              "    }\n",
              "\n",
              "    .colab-df-buttons div {\n",
              "      margin-bottom: 4px;\n",
              "    }\n",
              "\n",
              "    [theme=dark] .colab-df-convert {\n",
              "      background-color: #3B4455;\n",
              "      fill: #D2E3FC;\n",
              "    }\n",
              "\n",
              "    [theme=dark] .colab-df-convert:hover {\n",
              "      background-color: #434B5C;\n",
              "      box-shadow: 0px 1px 3px 1px rgba(0, 0, 0, 0.15);\n",
              "      filter: drop-shadow(0px 1px 2px rgba(0, 0, 0, 0.3));\n",
              "      fill: #FFFFFF;\n",
              "    }\n",
              "  </style>\n",
              "\n",
              "    <script>\n",
              "      const buttonEl =\n",
              "        document.querySelector('#df-de6814e1-aeb5-4838-ae33-f49b2cf06e37 button.colab-df-convert');\n",
              "      buttonEl.style.display =\n",
              "        google.colab.kernel.accessAllowed ? 'block' : 'none';\n",
              "\n",
              "      async function convertToInteractive(key) {\n",
              "        const element = document.querySelector('#df-de6814e1-aeb5-4838-ae33-f49b2cf06e37');\n",
              "        const dataTable =\n",
              "          await google.colab.kernel.invokeFunction('convertToInteractive',\n",
              "                                                    [key], {});\n",
              "        if (!dataTable) return;\n",
              "\n",
              "        const docLinkHtml = 'Like what you see? Visit the ' +\n",
              "          '<a target=\"_blank\" href=https://colab.research.google.com/notebooks/data_table.ipynb>data table notebook</a>'\n",
              "          + ' to learn more about interactive tables.';\n",
              "        element.innerHTML = '';\n",
              "        dataTable['output_type'] = 'display_data';\n",
              "        await google.colab.output.renderOutput(dataTable, element);\n",
              "        const docLink = document.createElement('div');\n",
              "        docLink.innerHTML = docLinkHtml;\n",
              "        element.appendChild(docLink);\n",
              "      }\n",
              "    </script>\n",
              "  </div>\n",
              "\n",
              "\n",
              "<div id=\"df-66cd8bf8-3fc7-4b34-b46a-641d7d2e24bc\">\n",
              "  <button class=\"colab-df-quickchart\" onclick=\"quickchart('df-66cd8bf8-3fc7-4b34-b46a-641d7d2e24bc')\"\n",
              "            title=\"Suggest charts\"\n",
              "            style=\"display:none;\">\n",
              "\n",
              "<svg xmlns=\"http://www.w3.org/2000/svg\" height=\"24px\"viewBox=\"0 0 24 24\"\n",
              "     width=\"24px\">\n",
              "    <g>\n",
              "        <path d=\"M19 3H5c-1.1 0-2 .9-2 2v14c0 1.1.9 2 2 2h14c1.1 0 2-.9 2-2V5c0-1.1-.9-2-2-2zM9 17H7v-7h2v7zm4 0h-2V7h2v10zm4 0h-2v-4h2v4z\"/>\n",
              "    </g>\n",
              "</svg>\n",
              "  </button>\n",
              "\n",
              "<style>\n",
              "  .colab-df-quickchart {\n",
              "      --bg-color: #E8F0FE;\n",
              "      --fill-color: #1967D2;\n",
              "      --hover-bg-color: #E2EBFA;\n",
              "      --hover-fill-color: #174EA6;\n",
              "      --disabled-fill-color: #AAA;\n",
              "      --disabled-bg-color: #DDD;\n",
              "  }\n",
              "\n",
              "  [theme=dark] .colab-df-quickchart {\n",
              "      --bg-color: #3B4455;\n",
              "      --fill-color: #D2E3FC;\n",
              "      --hover-bg-color: #434B5C;\n",
              "      --hover-fill-color: #FFFFFF;\n",
              "      --disabled-bg-color: #3B4455;\n",
              "      --disabled-fill-color: #666;\n",
              "  }\n",
              "\n",
              "  .colab-df-quickchart {\n",
              "    background-color: var(--bg-color);\n",
              "    border: none;\n",
              "    border-radius: 50%;\n",
              "    cursor: pointer;\n",
              "    display: none;\n",
              "    fill: var(--fill-color);\n",
              "    height: 32px;\n",
              "    padding: 0;\n",
              "    width: 32px;\n",
              "  }\n",
              "\n",
              "  .colab-df-quickchart:hover {\n",
              "    background-color: var(--hover-bg-color);\n",
              "    box-shadow: 0 1px 2px rgba(60, 64, 67, 0.3), 0 1px 3px 1px rgba(60, 64, 67, 0.15);\n",
              "    fill: var(--button-hover-fill-color);\n",
              "  }\n",
              "\n",
              "  .colab-df-quickchart-complete:disabled,\n",
              "  .colab-df-quickchart-complete:disabled:hover {\n",
              "    background-color: var(--disabled-bg-color);\n",
              "    fill: var(--disabled-fill-color);\n",
              "    box-shadow: none;\n",
              "  }\n",
              "\n",
              "  .colab-df-spinner {\n",
              "    border: 2px solid var(--fill-color);\n",
              "    border-color: transparent;\n",
              "    border-bottom-color: var(--fill-color);\n",
              "    animation:\n",
              "      spin 1s steps(1) infinite;\n",
              "  }\n",
              "\n",
              "  @keyframes spin {\n",
              "    0% {\n",
              "      border-color: transparent;\n",
              "      border-bottom-color: var(--fill-color);\n",
              "      border-left-color: var(--fill-color);\n",
              "    }\n",
              "    20% {\n",
              "      border-color: transparent;\n",
              "      border-left-color: var(--fill-color);\n",
              "      border-top-color: var(--fill-color);\n",
              "    }\n",
              "    30% {\n",
              "      border-color: transparent;\n",
              "      border-left-color: var(--fill-color);\n",
              "      border-top-color: var(--fill-color);\n",
              "      border-right-color: var(--fill-color);\n",
              "    }\n",
              "    40% {\n",
              "      border-color: transparent;\n",
              "      border-right-color: var(--fill-color);\n",
              "      border-top-color: var(--fill-color);\n",
              "    }\n",
              "    60% {\n",
              "      border-color: transparent;\n",
              "      border-right-color: var(--fill-color);\n",
              "    }\n",
              "    80% {\n",
              "      border-color: transparent;\n",
              "      border-right-color: var(--fill-color);\n",
              "      border-bottom-color: var(--fill-color);\n",
              "    }\n",
              "    90% {\n",
              "      border-color: transparent;\n",
              "      border-bottom-color: var(--fill-color);\n",
              "    }\n",
              "  }\n",
              "</style>\n",
              "\n",
              "  <script>\n",
              "    async function quickchart(key) {\n",
              "      const quickchartButtonEl =\n",
              "        document.querySelector('#' + key + ' button');\n",
              "      quickchartButtonEl.disabled = true;  // To prevent multiple clicks.\n",
              "      quickchartButtonEl.classList.add('colab-df-spinner');\n",
              "      try {\n",
              "        const charts = await google.colab.kernel.invokeFunction(\n",
              "            'suggestCharts', [key], {});\n",
              "      } catch (error) {\n",
              "        console.error('Error during call to suggestCharts:', error);\n",
              "      }\n",
              "      quickchartButtonEl.classList.remove('colab-df-spinner');\n",
              "      quickchartButtonEl.classList.add('colab-df-quickchart-complete');\n",
              "    }\n",
              "    (() => {\n",
              "      let quickchartButtonEl =\n",
              "        document.querySelector('#df-66cd8bf8-3fc7-4b34-b46a-641d7d2e24bc button');\n",
              "      quickchartButtonEl.style.display =\n",
              "        google.colab.kernel.accessAllowed ? 'block' : 'none';\n",
              "    })();\n",
              "  </script>\n",
              "</div>\n",
              "    </div>\n",
              "  </div>\n"
            ],
            "text/plain": [
              "        feature         init_type dropout weight_decay         norm  \\\n",
              "7   pretrain_ft   xavier_uniform_   False            0  BatchNorm1d   \n",
              "3        my_w2v  kaiming_uniform_   False      0.00001  BatchNorm1d   \n",
              "8   pretrain_ft  kaiming_uniform_    True            0  BatchNorm1d   \n",
              "5        my_w2v  kaiming_uniform_   False            0  BatchNorm1d   \n",
              "6   pretrain_ft  kaiming_uniform_   False            0  BatchNorm1d   \n",
              "0        my_w2v  kaiming_uniform_   False            0  BatchNorm1d   \n",
              "10  pretrain_ft  kaiming_uniform_   False            0    LayerNorm   \n",
              "1        my_w2v   xavier_uniform_   False            0  BatchNorm1d   \n",
              "9   pretrain_ft  kaiming_uniform_   False      0.00001  BatchNorm1d   \n",
              "11  pretrain_ft  kaiming_uniform_   False            0  BatchNorm1d   \n",
              "2        my_w2v  kaiming_uniform_    True            0  BatchNorm1d   \n",
              "4        my_w2v  kaiming_uniform_   False            0    LayerNorm   \n",
              "\n",
              "        scheduler    val_F1   test_F1  \n",
              "7     MultiStepLR  0.707317  0.807018  \n",
              "3     MultiStepLR  0.676194  0.784314  \n",
              "8     MultiStepLR  0.715645  0.774194  \n",
              "5   ExponentialLR  0.625979  0.771930  \n",
              "6     MultiStepLR  0.659585  0.745098  \n",
              "0     MultiStepLR  0.670663  0.727273  \n",
              "10    MultiStepLR  0.618728  0.716981  \n",
              "1     MultiStepLR  0.606310  0.695652  \n",
              "9     MultiStepLR  0.615414  0.666667  \n",
              "11  ExponentialLR  0.607490  0.642857  \n",
              "2     MultiStepLR  0.577905  0.608696  \n",
              "4     MultiStepLR  0.615495  0.528302  "
            ]
          },
          "execution_count": 43,
          "metadata": {},
          "output_type": "execute_result"
        }
      ],
      "source": [
        "result_df.sort_values(by = 'test_F1', ascending = False)"
      ]
    }
  ],
  "metadata": {
    "colab": {
      "provenance": []
    },
    "kernelspec": {
      "display_name": "Python 3",
      "name": "python3"
    },
    "language_info": {
      "name": "python"
    }
  },
  "nbformat": 4,
  "nbformat_minor": 0
}
